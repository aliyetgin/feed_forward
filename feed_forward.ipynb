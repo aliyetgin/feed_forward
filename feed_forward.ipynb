{
  "nbformat": 4,
  "nbformat_minor": 0,
  "metadata": {
    "colab": {
      "provenance": []
    },
    "kernelspec": {
      "name": "python3",
      "display_name": "Python 3"
    },
    "language_info": {
      "name": "python"
    }
  },
  "cells": [
    {
      "cell_type": "code",
      "execution_count": 25,
      "metadata": {
        "colab": {
          "base_uri": "https://localhost:8080/"
        },
        "id": "0UEs82tci1Dm",
        "outputId": "4b99c28d-c831-4c9d-96ef-91a2ce57c288"
      },
      "outputs": [
        {
          "output_type": "stream",
          "name": "stdout",
          "text": [
            "tensor([[0.0498],\n",
            "        [0.0075]])\n"
          ]
        }
      ],
      "source": [
        "import torch\n",
        "\n",
        "torch.manual_seed(1)\n",
        "\n",
        "# Input tensoru oluştur\n",
        "X = torch.tensor([[1, 2, 3], [4, 5, 6]], dtype=torch.float)\n",
        "\n",
        "# Parametreleri oluştur\n",
        "W1 = torch.randn(3, 50)\n",
        "b1 = torch.randn(1, 50)\n",
        "\n",
        "W2 = torch.randn(50, 1)\n",
        "b2 = torch.randn(1, 1)\n",
        "\n",
        "# Aktivasyon fonksiyonları\n",
        "def tanh_activation(x):\n",
        "    return (torch.exp(x) - torch.exp(-x)) / (torch.exp(x) + torch.exp(-x))\n",
        "\n",
        "def sigmoid_activation(x):\n",
        "    return 1 / (1 + torch.exp(-x))\n",
        "\n",
        "# Forward propagation\n",
        "hidden_layer = tanh_activation(torch.matmul(X, W1) + b1)\n",
        "output_layer = sigmoid_activation(torch.matmul(hidden_layer, W2) + b2)\n",
        "\n",
        "print(output_layer)\n"
      ]
    },
    {
      "cell_type": "code",
      "source": [
        "import torch\n",
        "\n",
        "torch.manual_seed(210401006)\n",
        "\n",
        "# Input tensoru oluştur\n",
        "X = torch.tensor([[1, 2, 3], [4, 5, 6]], dtype=torch.float)\n",
        "\n",
        "# Parametreleri oluştur\n",
        "W1 = torch.randn(3, 50)\n",
        "b1 = torch.randn(1, 50)\n",
        "\n",
        "W2 = torch.randn(50, 1)\n",
        "b2 = torch.randn(1, 1)\n",
        "\n",
        "# Aktivasyon fonksiyonları\n",
        "def tanh_activation(x):\n",
        "    return (torch.exp(x) - torch.exp(-x)) / (torch.exp(x) + torch.exp(-x))\n",
        "\n",
        "def sigmoid_activation(x):\n",
        "    return 1 / (1 + torch.exp(-x))\n",
        "\n",
        "# Forward propagation\n",
        "hidden_layer = tanh_activation(torch.matmul(X, W1) + b1)\n",
        "output_layer = sigmoid_activation(torch.matmul(hidden_layer, W2) + b2)\n",
        "\n",
        "print(output_layer)\n"
      ],
      "metadata": {
        "colab": {
          "base_uri": "https://localhost:8080/"
        },
        "id": "bmLfNh8It5fW",
        "outputId": "082253e9-7aef-40aa-cb84-e6ba8cf1e972"
      },
      "execution_count": 26,
      "outputs": [
        {
          "output_type": "stream",
          "name": "stdout",
          "text": [
            "tensor([[0.9988],\n",
            "        [0.9966]])\n"
          ]
        }
      ]
    }
  ]
}